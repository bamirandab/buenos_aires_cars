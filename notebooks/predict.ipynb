{
  "nbformat": 4,
  "nbformat_minor": 0,
  "metadata": {
    "colab": {
      "provenance": [],
      "authorship_tag": "ABX9TyMSiutH28UzFszHHJ+olqne",
      "include_colab_link": true
    },
    "kernelspec": {
      "name": "python3",
      "display_name": "Python 3"
    },
    "language_info": {
      "name": "python"
    }
  },
  "cells": [
    {
      "cell_type": "markdown",
      "metadata": {
        "id": "view-in-github",
        "colab_type": "text"
      },
      "source": [
        "<a href=\"https://colab.research.google.com/github/bamirandab/buenos_aires_cars/blob/main/notebooks/predict.ipynb\" target=\"_parent\"><img src=\"https://colab.research.google.com/assets/colab-badge.svg\" alt=\"Open In Colab\"/></a>"
      ]
    },
    {
      "cell_type": "code",
      "execution_count": 3,
      "metadata": {
        "id": "eow9w2E9mX-w"
      },
      "outputs": [],
      "source": [
        "import pickle \n",
        "import pandas as pd \n",
        "from sklearn.linear_model import LinearRegression\n",
        "from sklearn.preprocessing import LabelEncoder\n",
        "import tensorflow as tf"
      ]
    },
    {
      "cell_type": "code",
      "source": [
        "lr = pickle.load(open('/content/models/model/model.pkl', 'rb'))\n",
        "disp_ubicacion_enc = pickle.load(open('/content/models/encoder/disp_ubicacion_enc.pkl', 'rb'))\n",
        "disp_nombre_enc = pickle.load(open('/content/models/encoder/disp_nombre_enc.pkl', 'rb'))\n",
        "autopista_nombre_enc = pickle.load(open('/content/models/encoder/autopista_nombre_enc.pkl', 'rb'))\n",
        "columns = pickle.load(open('/content/models/columns.pkl', 'rb'))"
      ],
      "metadata": {
        "id": "8t2ePJ68m77C"
      },
      "execution_count": 16,
      "outputs": []
    },
    {
      "cell_type": "code",
      "source": [
        "df = pd.DataFrame({'year':[2020],\n",
        "              'mes': [1],\n",
        "              'hora': [12.0],\n",
        "              'autopista_nombre': ['AU 4  Lugones'],\n",
        "              'disp_ubicacion': [8.68],\n",
        "              'disp_nombre': ['RD170 Udaondo'],\n",
        "              'dia_semana': [5],\n",
        "              'holyday': [False]              \n",
        "              })\n",
        "\n",
        "df['disp_ubicacion_enc'] = disp_ubicacion_enc.transform(df.disp_ubicacion)\n",
        "df['disp_nombre_enc'] = disp_nombre_enc.transform(df.disp_nombre)\n",
        "df['autopista_nombre_enc'] = autopista_nombre_enc.transform(df.autopista_nombre)\n",
        "\n",
        "df_final = df[['year','mes','hora','autopista_nombre_enc','disp_ubicacion_enc',\n",
        "               'disp_nombre_enc','dia_semana','holyday']].copy()\n",
        "\n",
        "df_dummies = pd.get_dummies(data=df_final, \n",
        "               columns=['year','mes','hora','autopista_nombre_enc','disp_ubicacion_enc',\n",
        "                       'disp_nombre_enc','dia_semana'])\n",
        "\n",
        "df_dummies['holyday'] = df_dummies['holyday'].astype(int)"
      ],
      "metadata": {
        "id": "JTazilsNoCc3"
      },
      "execution_count": 42,
      "outputs": []
    },
    {
      "cell_type": "code",
      "source": [
        "for col in columns:\n",
        "  if (col not in df_dummies.columns) and (col != 'cantidad'):\n",
        "    df_dummies[col] = 0"
      ],
      "metadata": {
        "id": "P0MvyiNvsvKN"
      },
      "execution_count": null,
      "outputs": []
    },
    {
      "cell_type": "code",
      "source": [
        "int(lr.predict(df_dummies.to_numpy()))"
      ],
      "metadata": {
        "colab": {
          "base_uri": "https://localhost:8080/"
        },
        "id": "FIyecLDpq75_",
        "outputId": "692ead47-5449-406e-b316-2672c66ff4ba"
      },
      "execution_count": 44,
      "outputs": [
        {
          "output_type": "execute_result",
          "data": {
            "text/plain": [
              "98906125738605728"
            ]
          },
          "metadata": {},
          "execution_count": 44
        }
      ]
    }
  ]
}